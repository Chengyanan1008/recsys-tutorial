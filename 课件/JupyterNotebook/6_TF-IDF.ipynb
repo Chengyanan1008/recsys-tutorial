{
 "cells": [
  {
   "cell_type": "markdown",
   "metadata": {},
   "source": [
    "# TF-IDF简单示例"
   ]
  },
  {
   "cell_type": "markdown",
   "metadata": {},
   "source": [
    "### 1. 定义数据和预处理"
   ]
  },
  {
   "cell_type": "code",
   "execution_count": 16,
   "metadata": {},
   "outputs": [
    {
     "data": {
      "text/plain": [
       "{'Action',\n",
       " 'Adventure',\n",
       " 'Animation',\n",
       " 'Children',\n",
       " 'Comedy',\n",
       " 'Crime',\n",
       " 'Drama',\n",
       " 'Fantasy',\n",
       " 'Thriller'}"
      ]
     },
     "execution_count": 16,
     "metadata": {},
     "output_type": "execute_result"
    }
   ],
   "source": [
    "docA = \"Adventure|Animation|Children|Comedy|Fantasy\"\n",
    "docB = \"Adventure|Children|Fantasy\"\n",
    "docC = \"Action|Comedy|Crime|Drama|Thriller\"\n",
    "\n",
    "bowA = docA.split(\"|\")\n",
    "bowB = docB.split(\"|\")\n",
    "bowC = docC.split(\"|\")\n",
    "#bowA\n",
    "\n",
    "wordSet = set(bowA).union(set(bowB)).union(set(bowC))\n",
    "wordSet"
   ]
  },
  {
   "cell_type": "markdown",
   "metadata": {},
   "source": [
    "### 2. 统计词的频数"
   ]
  },
  {
   "cell_type": "code",
   "execution_count": 18,
   "metadata": {},
   "outputs": [
    {
     "data": {
      "text/html": [
       "<div>\n",
       "<style scoped>\n",
       "    .dataframe tbody tr th:only-of-type {\n",
       "        vertical-align: middle;\n",
       "    }\n",
       "\n",
       "    .dataframe tbody tr th {\n",
       "        vertical-align: top;\n",
       "    }\n",
       "\n",
       "    .dataframe thead th {\n",
       "        text-align: right;\n",
       "    }\n",
       "</style>\n",
       "<table border=\"1\" class=\"dataframe\">\n",
       "  <thead>\n",
       "    <tr style=\"text-align: right;\">\n",
       "      <th></th>\n",
       "      <th>Action</th>\n",
       "      <th>Adventure</th>\n",
       "      <th>Animation</th>\n",
       "      <th>Children</th>\n",
       "      <th>Comedy</th>\n",
       "      <th>Crime</th>\n",
       "      <th>Drama</th>\n",
       "      <th>Fantasy</th>\n",
       "      <th>Thriller</th>\n",
       "    </tr>\n",
       "  </thead>\n",
       "  <tbody>\n",
       "    <tr>\n",
       "      <th>0</th>\n",
       "      <td>0</td>\n",
       "      <td>1</td>\n",
       "      <td>1</td>\n",
       "      <td>1</td>\n",
       "      <td>1</td>\n",
       "      <td>0</td>\n",
       "      <td>0</td>\n",
       "      <td>1</td>\n",
       "      <td>0</td>\n",
       "    </tr>\n",
       "    <tr>\n",
       "      <th>1</th>\n",
       "      <td>0</td>\n",
       "      <td>1</td>\n",
       "      <td>0</td>\n",
       "      <td>1</td>\n",
       "      <td>0</td>\n",
       "      <td>0</td>\n",
       "      <td>0</td>\n",
       "      <td>1</td>\n",
       "      <td>0</td>\n",
       "    </tr>\n",
       "    <tr>\n",
       "      <th>2</th>\n",
       "      <td>1</td>\n",
       "      <td>0</td>\n",
       "      <td>0</td>\n",
       "      <td>0</td>\n",
       "      <td>1</td>\n",
       "      <td>1</td>\n",
       "      <td>1</td>\n",
       "      <td>0</td>\n",
       "      <td>1</td>\n",
       "    </tr>\n",
       "  </tbody>\n",
       "</table>\n",
       "</div>"
      ],
      "text/plain": [
       "   Action  Adventure  Animation  Children  Comedy  Crime  Drama  Fantasy  \\\n",
       "0       0          1          1         1       1      0      0        1   \n",
       "1       0          1          0         1       0      0      0        1   \n",
       "2       1          0          0         0       1      1      1        0   \n",
       "\n",
       "   Thriller  \n",
       "0         0  \n",
       "1         0  \n",
       "2         1  "
      ]
     },
     "execution_count": 18,
     "metadata": {},
     "output_type": "execute_result"
    }
   ],
   "source": [
    "wordCountA = dict.fromkeys(wordSet, 0)\n",
    "wordCountB = dict.fromkeys(wordSet, 0)\n",
    "wordCountC = dict.fromkeys(wordSet, 0)\n",
    "\n",
    "for word in bowA:\n",
    "    wordCountA[word] += 1\n",
    "for word in bowB:\n",
    "    wordCountB[word] += 1\n",
    "for word in bowC:\n",
    "    wordCountC[word] += 1\n",
    "    \n",
    "import pandas as pd\n",
    "pd.DataFrame([wordCountA, wordCountB, wordCountC])"
   ]
  },
  {
   "cell_type": "markdown",
   "metadata": {},
   "source": [
    "### 3. 计算词频"
   ]
  },
  {
   "cell_type": "code",
   "execution_count": 19,
   "metadata": {},
   "outputs": [
    {
     "data": {
      "text/plain": [
       "({'Drama': 0.0,\n",
       "  'Fantasy': 0.2,\n",
       "  'Animation': 0.2,\n",
       "  'Crime': 0.0,\n",
       "  'Comedy': 0.2,\n",
       "  'Thriller': 0.0,\n",
       "  'Adventure': 0.2,\n",
       "  'Children': 0.2,\n",
       "  'Action': 0.0},\n",
       " {'Drama': 0.0,\n",
       "  'Fantasy': 0.3333333333333333,\n",
       "  'Animation': 0.0,\n",
       "  'Crime': 0.0,\n",
       "  'Comedy': 0.0,\n",
       "  'Thriller': 0.0,\n",
       "  'Adventure': 0.3333333333333333,\n",
       "  'Children': 0.3333333333333333,\n",
       "  'Action': 0.0},\n",
       " {'Drama': 0.2,\n",
       "  'Fantasy': 0.0,\n",
       "  'Animation': 0.0,\n",
       "  'Crime': 0.2,\n",
       "  'Comedy': 0.2,\n",
       "  'Thriller': 0.2,\n",
       "  'Adventure': 0.0,\n",
       "  'Children': 0.0,\n",
       "  'Action': 0.2})"
      ]
     },
     "execution_count": 19,
     "metadata": {},
     "output_type": "execute_result"
    }
   ],
   "source": [
    "# 在每个文档里的词频计算\n",
    "def computeTF(wordCount, bow):\n",
    "    # 记录tf结果\n",
    "    tfDict = {}\n",
    "    bowCount = len(bow)\n",
    "    for word, count in wordCount.items():\n",
    "        tfDict[word] = count/float(bowCount)\n",
    "    return tfDict\n",
    "\n",
    "tfA = computeTF(wordCountA, bowA)\n",
    "tfB = computeTF(wordCountB, bowB)\n",
    "tfC = computeTF(wordCountC, bowC)\n",
    "tfA, tfB, tfC"
   ]
  },
  {
   "cell_type": "markdown",
   "metadata": {},
   "source": [
    "### 4. 计算逆文档频率"
   ]
  },
  {
   "cell_type": "code",
   "execution_count": 20,
   "metadata": {},
   "outputs": [
    {
     "name": "stdout",
     "output_type": "stream",
     "text": [
      "idfDict:  {'Drama': 0, 'Fantasy': 0, 'Animation': 0, 'Crime': 0, 'Comedy': 0, 'Thriller': 0, 'Adventure': 0, 'Children': 0, 'Action': 0}\n"
     ]
    },
    {
     "data": {
      "text/plain": [
       "{'Drama': 0.3010299956639812,\n",
       " 'Fantasy': 0.12493873660829993,\n",
       " 'Animation': 0.3010299956639812,\n",
       " 'Crime': 0.3010299956639812,\n",
       " 'Comedy': 0.12493873660829993,\n",
       " 'Thriller': 0.3010299956639812,\n",
       " 'Adventure': 0.12493873660829993,\n",
       " 'Children': 0.12493873660829993,\n",
       " 'Action': 0.3010299956639812}"
      ]
     },
     "execution_count": 20,
     "metadata": {},
     "output_type": "execute_result"
    }
   ],
   "source": [
    "# 统一传入所有文档的wordCount字典\n",
    "def computeIDF(docList):\n",
    "    import math\n",
    "    idfDict = {}\n",
    "    N = len(docList)\n",
    "    \n",
    "    idfDict = dict.fromkeys(docList[0].keys(), 0)\n",
    "    print('idfDict: ', idfDict)\n",
    "    \n",
    "    for doc in docList:\n",
    "        for word, count in doc.items():\n",
    "            if count > 0:\n",
    "                idfDict[word] += 1\n",
    "    for word, count in idfDict.items():\n",
    "        idfDict[word] = math.log10( (N+1)/float(count + 1) )\n",
    "    return idfDict\n",
    "\n",
    "idfs = computeIDF([wordCountA, wordCountB, wordCountC])\n",
    "idfs"
   ]
  },
  {
   "cell_type": "markdown",
   "metadata": {},
   "source": [
    "### 5. 计算TF-IDF"
   ]
  },
  {
   "cell_type": "code",
   "execution_count": 21,
   "metadata": {},
   "outputs": [
    {
     "data": {
      "text/html": [
       "<div>\n",
       "<style scoped>\n",
       "    .dataframe tbody tr th:only-of-type {\n",
       "        vertical-align: middle;\n",
       "    }\n",
       "\n",
       "    .dataframe tbody tr th {\n",
       "        vertical-align: top;\n",
       "    }\n",
       "\n",
       "    .dataframe thead th {\n",
       "        text-align: right;\n",
       "    }\n",
       "</style>\n",
       "<table border=\"1\" class=\"dataframe\">\n",
       "  <thead>\n",
       "    <tr style=\"text-align: right;\">\n",
       "      <th></th>\n",
       "      <th>Action</th>\n",
       "      <th>Adventure</th>\n",
       "      <th>Animation</th>\n",
       "      <th>Children</th>\n",
       "      <th>Comedy</th>\n",
       "      <th>Crime</th>\n",
       "      <th>Drama</th>\n",
       "      <th>Fantasy</th>\n",
       "      <th>Thriller</th>\n",
       "    </tr>\n",
       "  </thead>\n",
       "  <tbody>\n",
       "    <tr>\n",
       "      <th>0</th>\n",
       "      <td>0.000000</td>\n",
       "      <td>0.024988</td>\n",
       "      <td>0.060206</td>\n",
       "      <td>0.024988</td>\n",
       "      <td>0.024988</td>\n",
       "      <td>0.000000</td>\n",
       "      <td>0.000000</td>\n",
       "      <td>0.024988</td>\n",
       "      <td>0.000000</td>\n",
       "    </tr>\n",
       "    <tr>\n",
       "      <th>1</th>\n",
       "      <td>0.000000</td>\n",
       "      <td>0.041646</td>\n",
       "      <td>0.000000</td>\n",
       "      <td>0.041646</td>\n",
       "      <td>0.000000</td>\n",
       "      <td>0.000000</td>\n",
       "      <td>0.000000</td>\n",
       "      <td>0.041646</td>\n",
       "      <td>0.000000</td>\n",
       "    </tr>\n",
       "    <tr>\n",
       "      <th>2</th>\n",
       "      <td>0.060206</td>\n",
       "      <td>0.000000</td>\n",
       "      <td>0.000000</td>\n",
       "      <td>0.000000</td>\n",
       "      <td>0.024988</td>\n",
       "      <td>0.060206</td>\n",
       "      <td>0.060206</td>\n",
       "      <td>0.000000</td>\n",
       "      <td>0.060206</td>\n",
       "    </tr>\n",
       "  </tbody>\n",
       "</table>\n",
       "</div>"
      ],
      "text/plain": [
       "     Action  Adventure  Animation  Children    Comedy     Crime     Drama  \\\n",
       "0  0.000000   0.024988   0.060206  0.024988  0.024988  0.000000  0.000000   \n",
       "1  0.000000   0.041646   0.000000  0.041646  0.000000  0.000000  0.000000   \n",
       "2  0.060206   0.000000   0.000000  0.000000  0.024988  0.060206  0.060206   \n",
       "\n",
       "    Fantasy  Thriller  \n",
       "0  0.024988  0.000000  \n",
       "1  0.041646  0.000000  \n",
       "2  0.000000  0.060206  "
      ]
     },
     "execution_count": 21,
     "metadata": {},
     "output_type": "execute_result"
    }
   ],
   "source": [
    "def computeTFIDF(tf, idfs):\n",
    "    tfidf = {}\n",
    "    for word, tf in tf.items():\n",
    "        tfidf[word] = tf * idfs[word]\n",
    "    return tfidf\n",
    "\n",
    "tfidfA = computeTFIDF(tfA, idfs)\n",
    "tfidfB = computeTFIDF(tfB, idfs)\n",
    "tfidfC = computeTFIDF(tfC, idfs)\n",
    "pd.DataFrame([tfidfA, tfidfB, tfidfC])"
   ]
  },
  {
   "cell_type": "code",
   "execution_count": null,
   "metadata": {},
   "outputs": [],
   "source": []
  }
 ],
 "metadata": {
  "kernelspec": {
   "display_name": "Python 3",
   "language": "python",
   "name": "python3"
  },
  "language_info": {
   "codemirror_mode": {
    "name": "ipython",
    "version": 3
   },
   "file_extension": ".py",
   "mimetype": "text/x-python",
   "name": "python",
   "nbconvert_exporter": "python",
   "pygments_lexer": "ipython3",
   "version": "3.7.2"
  }
 },
 "nbformat": 4,
 "nbformat_minor": 2
}
