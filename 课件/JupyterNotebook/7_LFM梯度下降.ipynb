{
 "cells": [
  {
   "cell_type": "markdown",
   "metadata": {},
   "source": [
    "# 隐语义模型的梯度下降求解"
   ]
  },
  {
   "cell_type": "markdown",
   "metadata": {},
   "source": [
    "### 1.算法实现"
   ]
  },
  {
   "cell_type": "code",
   "execution_count": 35,
   "metadata": {},
   "outputs": [],
   "source": [
    "import numpy as np\n",
    "\n",
    "\"\"\"\n",
    "@输入参数：\n",
    "R：M*N 的评分矩阵\n",
    "P：初始化用户特征矩阵M*K\n",
    "Q：初始化物品特征矩阵N*K\n",
    "K：隐特征向量个数\n",
    "steps: 最大迭代次数\n",
    "alpha：步长\n",
    "lamda：正则化系数\n",
    "\n",
    "@输出：\n",
    "分解之后的 P，Q\n",
    "\"\"\"\n",
    "\n",
    "def LFM_grad_desc(R, K=5, steps=3000, alpha=0.0002, lamda=0.004):\n",
    "    M = len(R)         # R的行数M\n",
    "    N = len(R[0])      # R的列数N\n",
    "    P = np.random.rand(M,K) # 产生一个M x K的随机矩阵\n",
    "    Q = np.random.rand(N,K) # 产生一个N x K的随机矩阵\n",
    "    Q = Q.T # Q做转置\n",
    "    \n",
    "    for step in range(steps):\n",
    "        for i in range(M):\n",
    "            for j in range(N):\n",
    "                # 如果评分大于0，表示有评分，才考虑误差\n",
    "                if R[i][j] > 0:\n",
    "                    eij = R[i][j] - np.dot(P[i,:],Q[:,j]) # np.dot是点乘的意思, P[i,:]: 1 x k; Q[:,j]: k x 1\n",
    "                    for k in range(0, K):\n",
    "                        P[i][k] = P[i][k] + alpha * (2 * eij * Q[k][j] - 2 * lamda * P[i][k])\n",
    "                        Q[k][j] = Q[k][j] + alpha * (2 * eij * P[i][k] - 2 * lamda * Q[k][j])\n",
    "\n",
    "        # 根据更新之后的P、Q计算预测评分矩阵\n",
    "        eR = np.dot(P,Q)\n",
    "        # 计算当前损失函数\n",
    "        e = 0\n",
    "        for i in range(M):\n",
    "            for j in range(N):\n",
    "                if R[i][j] > 0:\n",
    "                    e += (R[i][j]-np.dot(P[i,:],Q[:,j]))**2\n",
    "                    for k in range(K):\n",
    "                        e += lamda * (P[i][k]**2 + Q[k][j]**2) \n",
    "        \n",
    "        if e < 0.001:\n",
    "            break\n",
    "    return P, Q.T"
   ]
  },
  {
   "cell_type": "markdown",
   "metadata": {},
   "source": [
    "输入\n",
    "\n",
    "$$\n",
    "R: M \\times N \\\\\n",
    "P: M \\times K \\\\\n",
    "Q: K \\times N\n",
    "$$\n",
    "\n",
    "损失函数：\n",
    "\n",
    "$$\n",
    "L = \\sum (R - PQ)^2 + \\lambda {\\vert\\vert P \\vert\\vert}^2 + \\lambda {\\vert\\vert Q \\vert\\vert}^2\n",
    "$$\n",
    "\n",
    "当然这里的R是评分矩阵的**已有评分**\n",
    "\n",
    "也就是说\n",
    "\n",
    "$$\n",
    "\\widehat{R}_{ij} = P_{i1}Q_{1j} + ... + P_{iK}Q_{Kj}  = \\sum P_{ik}Q_{kj}\n",
    "$$\n",
    "\n",
    "上面的公式$k$要循环$(1, K)$\n",
    "\n",
    "对P求偏导数\n",
    "\n",
    "$$\n",
    "\\frac {\\partial L}{\\partial P} = \\sum 2 \\times (R-PQ) \\times (-Q^T) + 2\\lambda\\vert\\vert P \\vert\\vert\n",
    "$$\n",
    "\n",
    "梯度下降迭代公式：\n",
    "\n",
    "$$\n",
    "P_{下一轮} = P_{当前轮} + \\alpha (2\\sum(R-PQ)Q^T-2\\lambda\\vert\\vert P \\vert\\vert)\n",
    "$$\n",
    "\n",
    "Q的求解同理\n",
    "\n",
    "这里有一个矩阵求导的技巧：\n",
    "\n",
    "$$\n",
    "\\frac {\\partial PQ}{\\partial P} = Q^T\n",
    "$$\n",
    "\n",
    "假设\n",
    "\n",
    "$$\n",
    "P = [P_1, ... ,P_K] \\\\\n",
    "Q = [Q_1, ... ,Q_K]^T \\\\\n",
    "PQ = P_1Q_1 + ... + P_KQ_K \\\\\n",
    "\\frac {\\partial PQ}{\\partial P} = [Q_1, ... , Q_K] = Q^T\n",
    "$$\n",
    "\n",
    "标量针对向量进行求导\n",
    "\n",
    "$$\n",
    "\\frac {\\partial x}{\\partial Y} = [\\frac {\\partial x}{\\partial y_1}, ..., \\frac {\\partial x}{\\partial y_K}]\n",
    "$$"
   ]
  },
  {
   "cell_type": "markdown",
   "metadata": {},
   "source": [
    "### 2. 测试"
   ]
  },
  {
   "cell_type": "code",
   "execution_count": 36,
   "metadata": {},
   "outputs": [
    {
     "data": {
      "text/plain": [
       "array([[5, 0, 4, 0, 0],\n",
       "       [0, 3, 0, 0, 4],\n",
       "       [5, 0, 0, 2, 0],\n",
       "       [0, 0, 4, 0, 0]])"
      ]
     },
     "execution_count": 36,
     "metadata": {},
     "output_type": "execute_result"
    }
   ],
   "source": [
    "R = np.array([[5,0,4,0,0],\n",
    "              [0,3,0,0,4],\n",
    "              [5,0,0,2,0],\n",
    "              [0,0,4,0,0]])\n",
    "\n",
    "nP,nQ = LFM_grad_desc(R)\n",
    "R"
   ]
  },
  {
   "cell_type": "code",
   "execution_count": 37,
   "metadata": {},
   "outputs": [
    {
     "data": {
      "text/plain": [
       "array([[1.14996471, 1.03800869, 0.60747143, 0.51926041, 0.86216595],\n",
       "       [0.73573355, 0.82487915, 0.60479086, 0.88928859, 1.40618051],\n",
       "       [1.31745151, 0.67773341, 0.82413723, 0.62437012, 0.65523668],\n",
       "       [0.73347945, 0.87307918, 0.56632902, 1.06282693, 1.0151266 ]])"
      ]
     },
     "execution_count": 37,
     "metadata": {},
     "output_type": "execute_result"
    }
   ],
   "source": [
    "nP"
   ]
  },
  {
   "cell_type": "code",
   "execution_count": 38,
   "metadata": {},
   "outputs": [
    {
     "data": {
      "text/plain": [
       "array([[1.42037719, 0.80543388, 1.14908875, 1.17826826, 1.3825335 ],\n",
       "       [0.23688063, 0.20246003, 0.75195393, 0.87447126, 1.01474268],\n",
       "       [1.11432086, 1.13599154, 0.53317698, 0.87893668, 0.91611041],\n",
       "       [0.16566253, 0.28504231, 0.78099022, 0.77765127, 0.69004162],\n",
       "       [0.5433344 , 0.77167095, 0.44603318, 0.67279315, 1.48461224]])"
      ]
     },
     "execution_count": 38,
     "metadata": {},
     "output_type": "execute_result"
    }
   ],
   "source": [
    "nQ"
   ]
  },
  {
   "cell_type": "code",
   "execution_count": 39,
   "metadata": {},
   "outputs": [
    {
     "data": {
      "text/plain": [
       "array([[4.97127098, 2.26830505, 4.03072476, 1.95954562, 3.32610592],\n",
       "       [5.39627533, 3.00062963, 4.1492045 , 2.49122417, 3.99198148],\n",
       "       [5.00571651, 2.27989624, 3.82642507, 1.99276096, 2.99924079],\n",
       "       [5.05152912, 2.73586793, 3.97522123, 2.33966031, 3.54698804]])"
      ]
     },
     "execution_count": 39,
     "metadata": {},
     "output_type": "execute_result"
    }
   ],
   "source": [
    "nP.dot(nQ.T)"
   ]
  },
  {
   "cell_type": "code",
   "execution_count": null,
   "metadata": {},
   "outputs": [],
   "source": []
  }
 ],
 "metadata": {
  "kernelspec": {
   "display_name": "Python 3",
   "language": "python",
   "name": "python3"
  },
  "language_info": {
   "codemirror_mode": {
    "name": "ipython",
    "version": 3
   },
   "file_extension": ".py",
   "mimetype": "text/x-python",
   "name": "python",
   "nbconvert_exporter": "python",
   "pygments_lexer": "ipython3",
   "version": "3.7.2"
  }
 },
 "nbformat": 4,
 "nbformat_minor": 2
}
